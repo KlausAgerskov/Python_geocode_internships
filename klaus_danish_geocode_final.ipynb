{
 "cells": [
  {
   "cell_type": "markdown",
   "metadata": {},
   "source": [
    "This is my first process made in Python after a course held by [Ujaval Gandhi](https://spatialthoughts.com/). None of this would have been possible without his guidiance.\n",
    "The input is a list of internships for Urban Landscape engineers in Denmark.\n",
    "\n",
    "The process checks the input address for typos and geocodes each address. The output is af GeoPackage with point, ready to be used in Qgis.\n",
    "\n",
    "Both the control for typos and the geocoding is made with the Danish service [DAWA.AWS.DK](https://dawa.aws.dk/) whitch like most geoservices is made \n",
    "publicly available."
   ]
  },
  {
   "cell_type": "code",
   "execution_count": null,
   "metadata": {},
   "outputs": [],
   "source": [
    "import os\n",
    "import pandas as pd\n",
    "import geopandas as gpd\n",
    "import xlrd\n",
    "import requests\n",
    "import json\n",
    "from shapely.geometry import Point\n",
    "import matplotlib.pyplot as plt"
   ]
  },
  {
   "cell_type": "code",
   "execution_count": null,
   "metadata": {},
   "outputs": [],
   "source": [
    "#data_pkg_path is the subfolder that contains the inputfile\n",
    "data_pkg_path = 'data'\n",
    "#filename can be changes to the current input\n",
    "filename = 'hopi_praktikadresser.xlsx'\n",
    "path = os.path.join(data_pkg_path, filename)"
   ]
  },
  {
   "cell_type": "code",
   "execution_count": null,
   "metadata": {},
   "outputs": [],
   "source": [
    "#import the excelsheet, sheet_name=1 indicates that is is the second sheet that contains the data. \n",
    "df = pd.read_excel(path, sheet_name=1, encoding='utf-8')"
   ]
  },
  {
   "cell_type": "code",
   "execution_count": null,
   "metadata": {},
   "outputs": [],
   "source": [
    "#In the full dataset I have some adresses from other countries so this is to sort only the danish adresses\n",
    "dk_df = df[df['Postnr.'] < 9000].copy()"
   ]
  },
  {
   "cell_type": "code",
   "execution_count": null,
   "metadata": {},
   "outputs": [],
   "source": [
    "#we make a joined field with a lookup adress\n",
    "dk_df['xx'] = dk_df['Adresse'] +', ' + dk_df['Postnr.'].map(str)"
   ]
  },
  {
   "cell_type": "code",
   "execution_count": null,
   "metadata": {},
   "outputs": [],
   "source": [
    "#This function control the lookup address and returns a uniqe address, getting the location with the next function and adds columns to the DataFrame.\n",
    "def find_point(row):\n",
    "    address = row['xx']\n",
    "    r = requests.get('https://dawa.aws.dk/datavask/adgangsadresser?betegnelse='+ address)\n",
    "\n",
    "    if r.status_code == 200:\n",
    "        data = r.json()\n",
    "        nummer = data['resultater'][0]['aktueladresse']['vejnavn'], str(data['resultater'][0]['aktueladresse']['husnr'])\n",
    "        row['uid'] = data['resultater'][0]['aktueladresse']['id']\n",
    "        row['vejnavn'] = ' '.join( nummer)\n",
    "        row['postnr'] = data['resultater'][0]['aktueladresse']['postnr']\n",
    "        row['by'] = data['resultater'][0]['aktueladresse']['postnrnavn']\n",
    "        dawa_addr = address_from_id(data['resultater'][0]['aktueladresse']['id'])\n",
    "        row['long'] = dawa_addr[\"adgangspunkt\"][\"koordinater\"][0]\n",
    "        row['lat'] = dawa_addr[\"adgangspunkt\"][\"koordinater\"][1]\n",
    "        \n",
    "        return row\n",
    "    else:\n",
    "        print('Request failed.')\n",
    "        return -9999"
   ]
  },
  {
   "cell_type": "code",
   "execution_count": null,
   "metadata": {},
   "outputs": [],
   "source": [
    "#This is taking the uniqe address and finds a location\n",
    "def address_from_id(uid):\n",
    "        re = requests.get('https://dawa.aws.dk/adgangsadresser/'+uid)\n",
    "        return re.json()"
   ]
  },
  {
   "cell_type": "code",
   "execution_count": null,
   "metadata": {},
   "outputs": [],
   "source": [
    "#This is the actual process where every line in the input excelsheet gets a washed address and location. (It takes some time to proces)\n",
    "dk_df = dk_df.apply(find_point, axis=1)"
   ]
  },
  {
   "cell_type": "code",
   "execution_count": null,
   "metadata": {},
   "outputs": [],
   "source": [
    "#Here we select which columns we need and in the desired order.\n",
    "renset = dk_df.iloc[:, [0,1,8,9,10,5,11,12]]\n",
    "geometry=gpd.points_from_xy(renset.long, renset.lat)\n",
    "\n",
    "gdf = gpd.GeoDataFrame(renset, crs='EPSG:4326', geometry=geometry)\n",
    "\n",
    "#Just a little look at the result.\n",
    "gdf.head()"
   ]
  },
  {
   "cell_type": "code",
   "execution_count": null,
   "metadata": {},
   "outputs": [],
   "source": [
    "#finaly the output is written to af GeoPackage for further use in QGIS\n",
    "output_dir = 'output'\n",
    "output_filename = 'praktik.gpkg'\n",
    "output_path = os.path.join(output_dir, output_filename)\n",
    "\n",
    "gdf.to_file(filename=output_path, layer='praktiklokalitet', driver='GPKG', encoding='UTF-8')\n",
    "print('Successfully written output file at {}'.format(output_path))\n"
   ]
  },
  {
   "cell_type": "markdown",
   "metadata": {},
   "source": [
    "The last code is just a little view of the locations"
   ]
  },
  {
   "cell_type": "code",
   "execution_count": null,
   "metadata": {},
   "outputs": [],
   "source": [
    "world = gpd.read_file(gpd.datasets.get_path('naturalearth_lowres'))\n",
    "ax = world[world.name == 'Denmark'].plot(\n",
    "    color='white', edgecolor='black')\n",
    "\n",
    "gdf.plot(ax=ax, color='red')\n",
    "\n",
    "plt.show()"
   ]
  }
 ],
 "metadata": {
  "kernelspec": {
   "display_name": "Python 3",
   "language": "python",
   "name": "python3"
  },
  "language_info": {
   "codemirror_mode": {
    "name": "ipython",
    "version": 3
   },
   "file_extension": ".py",
   "mimetype": "text/x-python",
   "name": "python",
   "nbconvert_exporter": "python",
   "pygments_lexer": "ipython3",
   "version": "3.7.7"
  }
 },
 "nbformat": 4,
 "nbformat_minor": 4
}
